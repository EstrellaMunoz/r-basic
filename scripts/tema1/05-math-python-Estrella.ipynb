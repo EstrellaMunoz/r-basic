{
 "cells": [
  {
   "cell_type": "markdown",
   "id": "903561f8",
   "metadata": {},
   "source": [
    "# Constantes en Python"
   ]
  },
  {
   "cell_type": "code",
   "execution_count": 1,
   "id": "fd701024",
   "metadata": {},
   "outputs": [],
   "source": [
    "import math"
   ]
  },
  {
   "cell_type": "code",
   "execution_count": 2,
   "id": "f621a7fa",
   "metadata": {},
   "outputs": [
    {
     "data": {
      "text/plain": [
       "3.141592653589793"
      ]
     },
     "execution_count": 2,
     "metadata": {},
     "output_type": "execute_result"
    }
   ],
   "source": [
    "math.pi"
   ]
  },
  {
   "cell_type": "code",
   "execution_count": 3,
   "id": "50f09e6b",
   "metadata": {},
   "outputs": [
    {
     "data": {
      "text/plain": [
       "2.718281828459045"
      ]
     },
     "execution_count": 3,
     "metadata": {},
     "output_type": "execute_result"
    }
   ],
   "source": [
    "math.e"
   ]
  },
  {
   "cell_type": "code",
   "execution_count": 4,
   "id": "b2d1c09b",
   "metadata": {},
   "outputs": [
    {
     "data": {
      "text/plain": [
       "6.283185307179586"
      ]
     },
     "execution_count": 4,
     "metadata": {},
     "output_type": "execute_result"
    }
   ],
   "source": [
    "# tau = 2*pi\n",
    "math.tau"
   ]
  },
  {
   "cell_type": "code",
   "execution_count": 5,
   "id": "bf650b47",
   "metadata": {},
   "outputs": [
    {
     "data": {
      "text/plain": [
       "inf"
      ]
     },
     "execution_count": 5,
     "metadata": {},
     "output_type": "execute_result"
    }
   ],
   "source": [
    "math.inf"
   ]
  },
  {
   "cell_type": "code",
   "execution_count": 6,
   "id": "50502a43",
   "metadata": {},
   "outputs": [
    {
     "data": {
      "text/plain": [
       "-inf"
      ]
     },
     "execution_count": 6,
     "metadata": {},
     "output_type": "execute_result"
    }
   ],
   "source": [
    "-float('inf')"
   ]
  },
  {
   "cell_type": "code",
   "execution_count": 7,
   "id": "2999791f",
   "metadata": {},
   "outputs": [
    {
     "data": {
      "text/plain": [
       "nan"
      ]
     },
     "execution_count": 7,
     "metadata": {},
     "output_type": "execute_result"
    }
   ],
   "source": [
    "float('nan')"
   ]
  },
  {
   "cell_type": "code",
   "execution_count": 8,
   "id": "1cdec947",
   "metadata": {},
   "outputs": [
    {
     "data": {
      "text/plain": [
       "nan"
      ]
     },
     "execution_count": 8,
     "metadata": {},
     "output_type": "execute_result"
    }
   ],
   "source": [
    "math.nan"
   ]
  },
  {
   "cell_type": "code",
   "execution_count": 9,
   "id": "ef4aa088",
   "metadata": {},
   "outputs": [
    {
     "data": {
      "text/plain": [
       "1.0"
      ]
     },
     "execution_count": 9,
     "metadata": {},
     "output_type": "execute_result"
    }
   ],
   "source": [
    "# Se puede operar con nan\n",
    "math.pow(math.nan, 0)\n",
    "math.nan**0"
   ]
  },
  {
   "cell_type": "markdown",
   "id": "b4d23d51",
   "metadata": {},
   "source": [
    "# Funciones en Python"
   ]
  },
  {
   "cell_type": "code",
   "execution_count": 10,
   "id": "e18024b6",
   "metadata": {},
   "outputs": [
    {
     "data": {
      "text/plain": [
       "4"
      ]
     },
     "execution_count": 10,
     "metadata": {},
     "output_type": "execute_result"
    }
   ],
   "source": [
    "math.ceil(math.pi)"
   ]
  },
  {
   "cell_type": "code",
   "execution_count": 11,
   "id": "f715afe8",
   "metadata": {},
   "outputs": [
    {
     "data": {
      "text/plain": [
       "2"
      ]
     },
     "execution_count": 11,
     "metadata": {},
     "output_type": "execute_result"
    }
   ],
   "source": [
    "math.floor(math.e)"
   ]
  },
  {
   "cell_type": "code",
   "execution_count": 12,
   "id": "a1a7c3cd",
   "metadata": {},
   "outputs": [
    {
     "data": {
      "text/plain": [
       "3"
      ]
     },
     "execution_count": 12,
     "metadata": {},
     "output_type": "execute_result"
    }
   ],
   "source": [
    "# Con trunc se trunca del valor real al valor entero\n",
    "math.trunc(math.pi)"
   ]
  },
  {
   "cell_type": "code",
   "execution_count": 13,
   "id": "f8c20f30",
   "metadata": {},
   "outputs": [
    {
     "data": {
      "text/plain": [
       "-8.0"
      ]
     },
     "execution_count": 13,
     "metadata": {},
     "output_type": "execute_result"
    }
   ],
   "source": [
    "math.copysign(8.0, -5.0)"
   ]
  },
  {
   "cell_type": "code",
   "execution_count": 14,
   "id": "0b771739",
   "metadata": {},
   "outputs": [
    {
     "data": {
      "text/plain": [
       "5.0"
      ]
     },
     "execution_count": 14,
     "metadata": {},
     "output_type": "execute_result"
    }
   ],
   "source": [
    "math.fabs(-5)"
   ]
  },
  {
   "cell_type": "code",
   "execution_count": 15,
   "id": "6dba6611",
   "metadata": {},
   "outputs": [
    {
     "data": {
      "text/plain": [
       "49"
      ]
     },
     "execution_count": 15,
     "metadata": {},
     "output_type": "execute_result"
    }
   ],
   "source": [
    "# Potencias\n",
    "\n",
    "7**2"
   ]
  },
  {
   "cell_type": "code",
   "execution_count": 16,
   "id": "da30b23a",
   "metadata": {},
   "outputs": [
    {
     "data": {
      "text/plain": [
       "49.0"
      ]
     },
     "execution_count": 16,
     "metadata": {},
     "output_type": "execute_result"
    }
   ],
   "source": [
    "math.pow(7,2)"
   ]
  },
  {
   "cell_type": "code",
   "execution_count": 17,
   "id": "51fb5430",
   "metadata": {},
   "outputs": [
    {
     "data": {
      "text/plain": [
       "10.0"
      ]
     },
     "execution_count": 17,
     "metadata": {},
     "output_type": "execute_result"
    }
   ],
   "source": [
    "# Combinatoria x sobre y\n",
    "x = 5\n",
    "y = 2\n",
    "\n",
    "math.factorial(x) / (math.factorial(y) * math.factorial(x-y))"
   ]
  },
  {
   "cell_type": "code",
   "execution_count": 21,
   "id": "f2c0c075",
   "metadata": {},
   "outputs": [
    {
     "name": "stdout",
     "output_type": "stream",
     "text": [
      "División exacta x/y\n",
      "División exacta  7 / 3 = 2.3333333333333335\n",
      "División entera x//y\n",
      "División entera  7 / 3 = 2\n",
      "Resto --> math.fmod(x,y)\n",
      "Resto de  7 / 3 = 1.0\n",
      "Resto reminder --> remainder(x,y) --> 1.0\n"
     ]
    }
   ],
   "source": [
    "# División\n",
    "x = 7\n",
    "y = 3\n",
    "\n",
    "# División exacta (con decimales)\n",
    "division_exacta = x/y\n",
    "print(\"División exacta x/y\")\n",
    "print(\"División exacta \", x, \"/\", y, \"=\", division_exacta)\n",
    "\n",
    "# División entera\n",
    "division_entera = x//y\n",
    "print(\"División entera x//y\")\n",
    "print(\"División entera \", x, \"/\", y, \"=\", division_entera)\n",
    "\n",
    "# Resto\n",
    "resto = math.fmod(x,y)\n",
    "print(\"Resto --> math.fmod(x,y)\")\n",
    "print(\"Resto de \", x, \"/\", y, \"=\", resto)\n",
    "# Si estamos operando con números enteros, podemos utilizar la sintáxis de \n",
    "# python 7%3, pero en el caso de números reales (con decimales) es preferible\n",
    "# utilizar la función fmod.\n",
    "\n",
    "resto = math.remainder(x,y)\n",
    "print(\"Resto reminder --> remainder(x,y) -->\", resto)"
   ]
  },
  {
   "cell_type": "code",
   "execution_count": 22,
   "id": "f39cd7ac",
   "metadata": {},
   "outputs": [
    {
     "data": {
      "text/plain": [
       "(0.75, 1.0)"
      ]
     },
     "execution_count": 22,
     "metadata": {},
     "output_type": "execute_result"
    }
   ],
   "source": [
    "# modf separa la parte fraccional de la parte entera de un número\n",
    "math.modf(7/4)"
   ]
  },
  {
   "cell_type": "code",
   "execution_count": 26,
   "id": "b65ed8eb",
   "metadata": {},
   "outputs": [
    {
     "data": {
      "text/plain": [
       "12"
      ]
     },
     "execution_count": 26,
     "metadata": {},
     "output_type": "execute_result"
    }
   ],
   "source": [
    "math.gcd(24, 36)"
   ]
  },
  {
   "cell_type": "code",
   "execution_count": 28,
   "id": "cb56cf66",
   "metadata": {},
   "outputs": [
    {
     "data": {
      "text/plain": [
       "False"
      ]
     },
     "execution_count": 28,
     "metadata": {},
     "output_type": "execute_result"
    }
   ],
   "source": [
    "math.isfinite(math.inf/2)"
   ]
  },
  {
   "cell_type": "code",
   "execution_count": 29,
   "id": "0e45fa18",
   "metadata": {},
   "outputs": [
    {
     "data": {
      "text/plain": [
       "True"
      ]
     },
     "execution_count": 29,
     "metadata": {},
     "output_type": "execute_result"
    }
   ],
   "source": [
    "math.isinf(math.inf/2)"
   ]
  },
  {
   "cell_type": "code",
   "execution_count": 30,
   "id": "038f9267",
   "metadata": {},
   "outputs": [
    {
     "data": {
      "text/plain": [
       "True"
      ]
     },
     "execution_count": 30,
     "metadata": {},
     "output_type": "execute_result"
    }
   ],
   "source": [
    "math.isclose(math.sqrt(2)**2, 2)"
   ]
  },
  {
   "cell_type": "code",
   "execution_count": 31,
   "id": "f845885d",
   "metadata": {},
   "outputs": [
    {
     "data": {
      "text/plain": [
       "False"
      ]
     },
     "execution_count": 31,
     "metadata": {},
     "output_type": "execute_result"
    }
   ],
   "source": [
    "math.sqrt(2)**2==2"
   ]
  },
  {
   "cell_type": "code",
   "execution_count": 35,
   "id": "1d45a6e8",
   "metadata": {},
   "outputs": [
    {
     "data": {
      "text/plain": [
       "True"
      ]
     },
     "execution_count": 35,
     "metadata": {},
     "output_type": "execute_result"
    }
   ],
   "source": [
    "# Utilizando math.isclose() podemos indicar como tercer parámetro el margen de tolerancia que deseamos\n",
    "# Bien indicando un número de decimales abs_tol=z. Ej. con 3 dígitos decimales exactos:\n",
    "math.isclose(math.sqrt(2)**2, 2, abs_tol=3)\n",
    "# Bien indicando de forma relativa el número de decimales rel_tol=z. Ej. con 9 dígitos decimales:\n",
    "math.isclose(math.sqrt(2)**2, 2, abs_tol=1e-09)"
   ]
  },
  {
   "cell_type": "code",
   "execution_count": null,
   "id": "e0a78405",
   "metadata": {},
   "outputs": [],
   "source": []
  }
 ],
 "metadata": {
  "kernelspec": {
   "display_name": "Python 3 (ipykernel)",
   "language": "python",
   "name": "python3"
  },
  "language_info": {
   "codemirror_mode": {
    "name": "ipython",
    "version": 3
   },
   "file_extension": ".py",
   "mimetype": "text/x-python",
   "name": "python",
   "nbconvert_exporter": "python",
   "pygments_lexer": "ipython3",
   "version": "3.9.12"
  }
 },
 "nbformat": 4,
 "nbformat_minor": 5
}
